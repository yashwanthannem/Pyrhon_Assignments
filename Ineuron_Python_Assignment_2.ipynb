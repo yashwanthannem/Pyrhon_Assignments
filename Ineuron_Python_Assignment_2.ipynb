{
  "nbformat": 4,
  "nbformat_minor": 0,
  "metadata": {
    "colab": {
      "name": "Ineuron Python Assignment 2.ipynb",
      "provenance": [],
      "authorship_tag": "ABX9TyPIKijzJFamcUAeAN06oFEO",
      "include_colab_link": true
    },
    "kernelspec": {
      "name": "python3",
      "display_name": "Python 3"
    }
  },
  "cells": [
    {
      "cell_type": "markdown",
      "metadata": {
        "id": "view-in-github",
        "colab_type": "text"
      },
      "source": [
        "<a href=\"https://colab.research.google.com/github/yashwanthannem/Python_Assignments/blob/main/Ineuron_Python_Assignment_2.ipynb\" target=\"_parent\"><img src=\"https://colab.research.google.com/assets/colab-badge.svg\" alt=\"Open In Colab\"/></a>"
      ]
    },
    {
      "cell_type": "markdown",
      "metadata": {
        "id": "mL92R6KrpDSG"
      },
      "source": [
        "Task-1 Write a program which accepts a sequence of comma-separated numbers from console  and generate a list"
      ]
    },
    {
      "cell_type": "code",
      "metadata": {
        "id": "yGg288GClHO5",
        "outputId": "8d2e42a2-eb62-4e92-970f-2eb53d8be1f5",
        "colab": {
          "base_uri": "https://localhost:8080/",
          "height": 204
        }
      },
      "source": [
        "inp = input(\"Enter Max starts you want: \")\n",
        "for i in range(int(inp)):\n",
        "  print('*'*i)\n",
        "for j in range(int(inp),0,-1):\n",
        "  print('*'*j)"
      ],
      "execution_count": 14,
      "outputs": [
        {
          "output_type": "stream",
          "text": [
            "Enter Max starts you want: 5\n",
            "\n",
            "*\n",
            "**\n",
            "***\n",
            "****\n",
            "*****\n",
            "****\n",
            "***\n",
            "**\n",
            "*\n"
          ],
          "name": "stdout"
        }
      ]
    },
    {
      "cell_type": "markdown",
      "metadata": {
        "id": "m1qolHSkoppO"
      },
      "source": [
        "Task-2 Write a Python program to reverse a word after accepting the input from the user. "
      ]
    },
    {
      "cell_type": "code",
      "metadata": {
        "id": "nBs8B9dyovIz",
        "outputId": "78f11ba2-4d64-4c31-a130-7b56ee7820f6",
        "colab": {
          "base_uri": "https://localhost:8080/",
          "height": 51
        }
      },
      "source": [
        "inp = input(\"Enter String You want to reverse: \")\n",
        "print(\"Reversed String is \",inp[::-1])"
      ],
      "execution_count": 16,
      "outputs": [
        {
          "output_type": "stream",
          "text": [
            "Enter String You want to reverse: ineuron\n",
            "Reversed String is  norueni\n"
          ],
          "name": "stdout"
        }
      ]
    },
    {
      "cell_type": "code",
      "metadata": {
        "id": "jW9Ge1Ano5ys"
      },
      "source": [
        ""
      ],
      "execution_count": null,
      "outputs": []
    }
  ]
}