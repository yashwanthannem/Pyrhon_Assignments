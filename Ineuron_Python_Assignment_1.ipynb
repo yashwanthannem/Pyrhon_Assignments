{
  "nbformat": 4,
  "nbformat_minor": 0,
  "metadata": {
    "colab": {
      "name": "Ineuron Python Assignment 1.ipynb",
      "provenance": [],
      "authorship_tag": "ABX9TyN81cnDpiGZPCjPK8Zbpr2h",
      "include_colab_link": true
    },
    "kernelspec": {
      "name": "python3",
      "display_name": "Python 3"
    }
  },
  "cells": [
    {
      "cell_type": "markdown",
      "metadata": {
        "id": "view-in-github",
        "colab_type": "text"
      },
      "source": [
        "<a href=\"https://colab.research.google.com/github/yashwanthannem/Pyrhon_Assignments/blob/main/Ineuron_Python_Assignment_1.ipynb\" target=\"_parent\"><img src=\"https://colab.research.google.com/assets/colab-badge.svg\" alt=\"Open In Colab\"/></a>"
      ]
    },
    {
      "cell_type": "markdown",
      "metadata": {
        "id": "x6r7K6ngec6O"
      },
      "source": [
        "Task 1 :Write a program which will find all such numbers which are divisible by 7 but are not a multiple of 5, \n",
        " between 2000 and 3200 (both included). The numbers obtained should be printed  in a comma-separated sequence on a \n",
        " single line\n"
      ]
    },
    {
      "cell_type": "code",
      "metadata": {
        "id": "E7enyhacbQ_U",
        "outputId": "d511d653-8adb-4773-cf4c-3060563f83df",
        "colab": {
          "base_uri": "https://localhost:8080/",
          "height": 54
        }
      },
      "source": [
        "#list comprehension to loop in the range of 2000 to 3201(as 3200 included) and checking the divisability and multiplication condition and applying str to get the string output\n",
        "op = str([x for x in range(2000,3201) \n",
        "     if ((x % 7 == 0) & (x % 5 !=0)) ])\n",
        "#get the final string by removing the opening and closing braces\n",
        "finaloutput = op[1:-1]\n",
        "#printing the final output\n",
        "print(finaloutput)"
      ],
      "execution_count": 14,
      "outputs": [
        {
          "output_type": "stream",
          "text": [
            "2002, 2009, 2016, 2023, 2037, 2044, 2051, 2058, 2072, 2079, 2086, 2093, 2107, 2114, 2121, 2128, 2142, 2149, 2156, 2163, 2177, 2184, 2191, 2198, 2212, 2219, 2226, 2233, 2247, 2254, 2261, 2268, 2282, 2289, 2296, 2303, 2317, 2324, 2331, 2338, 2352, 2359, 2366, 2373, 2387, 2394, 2401, 2408, 2422, 2429, 2436, 2443, 2457, 2464, 2471, 2478, 2492, 2499, 2506, 2513, 2527, 2534, 2541, 2548, 2562, 2569, 2576, 2583, 2597, 2604, 2611, 2618, 2632, 2639, 2646, 2653, 2667, 2674, 2681, 2688, 2702, 2709, 2716, 2723, 2737, 2744, 2751, 2758, 2772, 2779, 2786, 2793, 2807, 2814, 2821, 2828, 2842, 2849, 2856, 2863, 2877, 2884, 2891, 2898, 2912, 2919, 2926, 2933, 2947, 2954, 2961, 2968, 2982, 2989, 2996, 3003, 3017, 3024, 3031, 3038, 3052, 3059, 3066, 3073, 3087, 3094, 3101, 3108, 3122, 3129, 3136, 3143, 3157, 3164, 3171, 3178, 3192, 3199\n"
          ],
          "name": "stdout"
        }
      ]
    },
    {
      "cell_type": "markdown",
      "metadata": {
        "id": "1clhob0QenUh"
      },
      "source": [
        "Task -2 Write a Python program to accept the user's first and last name and then getting them printed in the the reverse order with a space between first name and last name. "
      ]
    },
    {
      "cell_type": "code",
      "metadata": {
        "id": "wXFUXpSzbsUa",
        "outputId": "8cd04b66-c376-4022-b85a-fa53a3ff717a",
        "colab": {
          "base_uri": "https://localhost:8080/",
          "height": 68
        }
      },
      "source": [
        "#accepting First Name and Last Name\n",
        "fname = input(\"Enter First Name: \")\n",
        "lname = input(\"Enter Last Name: \")\n",
        "#reversing the string using below operation\n",
        "fname_rev = fname[::-1]\n",
        "lname_rev = lname[::-1]\n",
        "#printing fistrname reversed and lastname reversed separated by space\n",
        "print(\"Reversed fname and lastname: \", fname_rev+\" \"+lname_rev)"
      ],
      "execution_count": 26,
      "outputs": [
        {
          "output_type": "stream",
          "text": [
            "Enter First Name: Yashwanth\n",
            "Enter Last Name: Reddy\n",
            "Reversed fname and lastname:  htnawhsaY yddeR\n"
          ],
          "name": "stdout"
        }
      ]
    },
    {
      "cell_type": "markdown",
      "metadata": {
        "id": "ENVqLcl-hGbm"
      },
      "source": [
        "Task 3 : \n",
        "Write a Python program to find the volume of a sphere with diameter 12 cm.Formula: V=4/3 * π * r 3 "
      ]
    },
    {
      "cell_type": "code",
      "metadata": {
        "id": "YOomeQ5ugQFJ",
        "outputId": "5151395b-339c-41b5-a499-2a73dbf4f112",
        "colab": {
          "base_uri": "https://localhost:8080/",
          "height": 34
        }
      },
      "source": [
        "#importing math to get PI value\n",
        "import math \n",
        "#function to computer volume of sphere with diameter as parameter with default value as 12\n",
        "def volofsphere (diameter = 12):\n",
        "  return ((4/3)*math.pi*(diameter/2)**3)\n",
        "\n",
        "#calling volofsphere() function \n",
        "print(\"Volume of Sphere with diameter 12 is\",volofsphere(12))\n"
      ],
      "execution_count": 43,
      "outputs": [
        {
          "output_type": "stream",
          "text": [
            "Volume of Sphere with diameter 12 is 904.7786842338603\n"
          ],
          "name": "stdout"
        }
      ]
    },
    {
      "cell_type": "code",
      "metadata": {
        "id": "iMMvDDzfgoAG"
      },
      "source": [
        ""
      ],
      "execution_count": null,
      "outputs": []
    }
  ]
}