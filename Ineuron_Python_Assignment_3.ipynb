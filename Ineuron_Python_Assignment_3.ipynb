{
  "nbformat": 4,
  "nbformat_minor": 0,
  "metadata": {
    "colab": {
      "name": "Ineuron Python Assignment 3.ipynb",
      "provenance": [],
      "authorship_tag": "ABX9TyP2L2hZtpAUAshB9FwxsLNF",
      "include_colab_link": true
    },
    "kernelspec": {
      "name": "python3",
      "display_name": "Python 3"
    }
  },
  "cells": [
    {
      "cell_type": "markdown",
      "metadata": {
        "id": "view-in-github",
        "colab_type": "text"
      },
      "source": [
        "<a href=\"https://colab.research.google.com/github/yashwanthannem/Python_Assignments/blob/main/Ineuron_Python_Assignment_3.ipynb\" target=\"_parent\"><img src=\"https://colab.research.google.com/assets/colab-badge.svg\" alt=\"Open In Colab\"/></a>"
      ]
    },
    {
      "cell_type": "markdown",
      "metadata": {
        "id": "75Wy3TZQ92hi"
      },
      "source": [
        "1.1 Write a Python Program to implement your own myreduce() function which works exactly\n",
        "like Python's built-in function reduce()"
      ]
    },
    {
      "cell_type": "code",
      "metadata": {
        "id": "7Xx0so7w8Hov"
      },
      "source": [
        "#custom reduce function which functions similar to standartd \n",
        "def myreduce(func,itera):\n",
        "  input_iter = iter(itera)\n",
        "  acumulate = next(input_iter)\n",
        "  for i in input_iter:\n",
        "    acumulate = func(acumulate ,i)\n",
        "  return acumulate"
      ],
      "execution_count": 9,
      "outputs": []
    },
    {
      "cell_type": "code",
      "metadata": {
        "id": "Qwq3zJtX9O8C",
        "outputId": "402ec3ee-8ca3-4cb2-b42a-218de3d05650",
        "colab": {
          "base_uri": "https://localhost:8080/",
          "height": 34
        }
      },
      "source": [
        "input_list = [1,2,3]\n",
        "print(\"Applying myreduce \",myreduce(lambda a,b : a-b,input_list))"
      ],
      "execution_count": 15,
      "outputs": [
        {
          "output_type": "stream",
          "text": [
            "Applying myreduce  -4\n"
          ],
          "name": "stdout"
        }
      ]
    },
    {
      "cell_type": "markdown",
      "metadata": {
        "id": "f7Qk_jTgBQOp"
      },
      "source": [
        "1.2 Write a Python program to implement your own myfilter() function which works exactly\n",
        "like Python's built-in function filter()"
      ]
    },
    {
      "cell_type": "code",
      "metadata": {
        "id": "h1ysBU_P9c_e"
      },
      "source": [
        "#custom myfilter function which works like standard python filter function\n",
        "def myfilter(func,itera):\n",
        "  input_iter = iter(itera)\n",
        "  if func is not None:\n",
        "    return [item for item in input_iter if func(item)]"
      ],
      "execution_count": 25,
      "outputs": []
    },
    {
      "cell_type": "code",
      "metadata": {
        "id": "Hs1SWsjc9sCe",
        "outputId": "026e79c0-540b-4b29-b0be-3f299d69638e",
        "colab": {
          "base_uri": "https://localhost:8080/",
          "height": 34
        }
      },
      "source": [
        "input_list = list(\"check\")\n",
        "#custom function which checks if the input character is vowel or not\n",
        "def checkVowel(item):\n",
        "  if item in ['a','e','i','o','u']:\n",
        "    return True\n",
        "  else:\n",
        "    return False\n",
        "print(\"Output after applying myfilter with checkVowel function \",myfilter(checkVowel,input_list))"
      ],
      "execution_count": 26,
      "outputs": [
        {
          "output_type": "stream",
          "text": [
            "Output after applying myfilter with checkVowel function  ['e']\n"
          ],
          "name": "stdout"
        }
      ]
    },
    {
      "cell_type": "markdown",
      "metadata": {
        "id": "yhZM5CIMDv_g"
      },
      "source": [
        "2.Implement List comprehensions to produce the following lists.  \n",
        "Write List comprehensions to produce the following Lists \n",
        "\n",
        "['A', 'C', 'A', 'D', 'G', 'I', ’L’, ‘ D’] \n",
        "\n",
        "['x', 'xx', 'xxx', 'xxxx', 'y', 'yy', 'yyy', 'yyyy', 'z', 'zz', 'zzz', 'zzzz'] \n",
        "\n",
        "['x', 'y', 'z', 'xx', 'yy', 'zz', 'xxx', 'yyy', 'zzz', 'xxxx', 'yyyy', 'zzzz']  \n",
        "[[2], [3], [4], [3], [4], [5], [4], [5], [6]] \n",
        "\n",
        "[[2, 3, 4, 5], [3, 4, 5, 6],  [4, 5, 6, 7], [5, 6, 7, 8]] \n",
        "\n",
        "[(1, 1), (2, 1), (3, 1), (1, 2), (2, 2), (3, 2), (1, 3), (2, 3), (3, 3)]\n"
      ]
    },
    {
      "cell_type": "code",
      "metadata": {
        "id": "CVXeVQSCCljZ",
        "outputId": "a19cab33-050f-49cc-af3b-c96c0558ce08",
        "colab": {
          "base_uri": "https://localhost:8080/",
          "height": 119
        }
      },
      "source": [
        "a_1 = \"ACADGILD\"\n",
        "print(list(a_1))\n",
        "a_2 = [[a,a*2,a*3,a*4] for a in ['x','y','z']]\n",
        "print(list(a_2))\n",
        "a_3 = [a for a in ['x','y','z']]+[a*2 for a in ['x','y','z']]+[a*3 for a in ['x','y','z']]\n",
        "print(list(a_3))\n",
        "a_6 = [[[a+1],[a+2],[a+3]] for a in [1,2,3]]\n",
        "print(list(a_6))\n",
        "a_5 = [[a+1,a+2,a+3,a+4] for a in [1,2,3,4]]\n",
        "print(list(a_5))\n",
        "A = [1,2,3]\n",
        "B = [1,2,3]\n",
        "a_4 = [(a,b) for a in A for b in B]\n",
        "print(list(a_4))\n"
      ],
      "execution_count": 78,
      "outputs": [
        {
          "output_type": "stream",
          "text": [
            "['A', 'C', 'A', 'D', 'G', 'I', 'L', 'D']\n",
            "[['x', 'xx', 'xxx', 'xxxx'], ['y', 'yy', 'yyy', 'yyyy'], ['z', 'zz', 'zzz', 'zzzz']]\n",
            "['x', 'y', 'z', 'xx', 'yy', 'zz', 'xxx', 'yyy', 'zzz']\n",
            "[[[2], [3], [4]], [[3], [4], [5]], [[4], [5], [6]]]\n",
            "[[2, 3, 4, 5], [3, 4, 5, 6], [4, 5, 6, 7], [5, 6, 7, 8]]\n",
            "[(1, 1), (1, 2), (1, 3), (2, 1), (2, 2), (2, 3), (3, 1), (3, 2), (3, 3)]\n"
          ],
          "name": "stdout"
        }
      ]
    },
    {
      "cell_type": "code",
      "metadata": {
        "id": "OVcTw02yHj9r"
      },
      "source": [
        ""
      ],
      "execution_count": null,
      "outputs": []
    }
  ]
}